{
  "nbformat": 4,
  "nbformat_minor": 0,
  "metadata": {
    "colab": {
      "provenance": []
    },
    "kernelspec": {
      "name": "python3",
      "display_name": "Python 3"
    },
    "language_info": {
      "name": "python"
    },
    "gpuClass": "standard"
  },
  "cells": [
    {
      "cell_type": "markdown",
      "source": [
        "##Preprocess the BioASQ dataset to the format specified in\n",
        "\n",
        "https://github.com/dmis-lab/bioasq-biobert"
      ],
      "metadata": {
        "id": "-G6rLACvS9r5"
      }
    },
    {
      "cell_type": "code",
      "execution_count": null,
      "metadata": {
        "id": "5Bw_1Nht74Jx"
      },
      "outputs": [],
      "source": [
        "!pip install beautifulsoup4"
      ]
    },
    {
      "cell_type": "code",
      "source": [
        "!unzip BioASQ-training11b.zip"
      ],
      "metadata": {
        "colab": {
          "base_uri": "https://localhost:8080/"
        },
        "id": "sNGgGVs1ST2d",
        "outputId": "9d9ec50f-9bf3-44f4-d0aa-484a0891e650"
      },
      "execution_count": 2,
      "outputs": [
        {
          "output_type": "stream",
          "name": "stdout",
          "text": [
            "Archive:  BioASQ-training11b.zip\n",
            "   creating: BioASQ-training11b/\n",
            "  inflating: BioASQ-training11b/README  \n",
            "  inflating: BioASQ-training11b/training11b.json  \n"
          ]
        }
      ]
    },
    {
      "cell_type": "code",
      "source": [
        "import json\n",
        "\n",
        "x = json.load(open(\"BioASQ-training11b/training11b.json\"))"
      ],
      "metadata": {
        "id": "JWIwFy1o8B4P"
      },
      "execution_count": 3,
      "outputs": []
    },
    {
      "cell_type": "code",
      "source": [
        "list_questions = [q for q in x['questions'] if q['type'] == 'list']\n",
        "list_questions[0]"
      ],
      "metadata": {
        "colab": {
          "base_uri": "https://localhost:8080/"
        },
        "id": "kAJpdvSsTPm5",
        "outputId": "b648ae71-cf5a-47b5-c108-2518ef767f96"
      },
      "execution_count": 40,
      "outputs": [
        {
          "output_type": "execute_result",
          "data": {
            "text/plain": [
              "{'body': 'List signaling molecules (ligands) that interact with the receptor EGFR?',\n",
              " 'documents': ['http://www.ncbi.nlm.nih.gov/pubmed/23959273',\n",
              "  'http://www.ncbi.nlm.nih.gov/pubmed/21514161',\n",
              "  'http://www.ncbi.nlm.nih.gov/pubmed/23212918',\n",
              "  'http://www.ncbi.nlm.nih.gov/pubmed/23888072',\n",
              "  'http://www.ncbi.nlm.nih.gov/pubmed/23821377',\n",
              "  'http://www.ncbi.nlm.nih.gov/pubmed/23099994',\n",
              "  'http://www.ncbi.nlm.nih.gov/pubmed/22260327',\n",
              "  'http://www.ncbi.nlm.nih.gov/pubmed/24204699',\n",
              "  'http://www.ncbi.nlm.nih.gov/pubmed/24323361',\n",
              "  'http://www.ncbi.nlm.nih.gov/pubmed/23089711',\n",
              "  'http://www.ncbi.nlm.nih.gov/pubmed/23399900',\n",
              "  'http://www.ncbi.nlm.nih.gov/pubmed/23382875',\n",
              "  'http://www.ncbi.nlm.nih.gov/pubmed/23729230',\n",
              "  'http://www.ncbi.nlm.nih.gov/pubmed/23787814',\n",
              "  'http://www.ncbi.nlm.nih.gov/pubmed/24124521',\n",
              "  'http://www.ncbi.nlm.nih.gov/pubmed/22247333'],\n",
              " 'triples': [{'p': 'http://purl.uniprot.org/core/encodedBy',\n",
              "   's': 'http://purl.uniprot.org/uniprot/Q9QX70',\n",
              "   'o': 'http://linkedlifedata.com/resource/#_5139515837300022'},\n",
              "  {'p': 'http://www.w3.org/2004/02/skos/core#prefLabel',\n",
              "   's': 'http://linkedlifedata.com/resource/#_5139515837300022',\n",
              "   'o': 'Egfr'},\n",
              "  {'p': 'http://www.w3.org/2004/02/skos/core#exactMatch',\n",
              "   's': 'http://purl.uniprot.org/intact/EBI-1256812',\n",
              "   'o': 'http://purl.uniprot.org/uniprot/Q9QX70'},\n",
              "  {'p': 'http://www.w3.org/2000/01/rdf-schema#label',\n",
              "   's': 'http://purl.uniprot.org/intact/EBI-1256812',\n",
              "   'o': 'Egfr'}],\n",
              " 'ideal_answer': ['The 7 known EGFR ligands  are: epidermal growth factor (EGF), betacellulin (BTC), epiregulin (EPR), heparin-binding EGF (HB-EGF), transforming growth factor-α [TGF-α], amphiregulin (AREG) and epigen (EPG).'],\n",
              " 'exact_answer': [['epidermal growth factor'],\n",
              "  ['betacellulin'],\n",
              "  ['epiregulin'],\n",
              "  ['heparin-binding epidermal growth factor'],\n",
              "  ['transforming growth factor-α'],\n",
              "  ['amphiregulin'],\n",
              "  ['epigen']],\n",
              " 'concepts': ['http://amigo.geneontology.org/cgi-bin/amigo/term_details?term=GO:0005154',\n",
              "  'http://www.uniprot.org/uniprot/EGFR_HUMAN',\n",
              "  'http://amigo.geneontology.org/cgi-bin/amigo/term_details?term=GO:0005488',\n",
              "  'http://amigo.geneontology.org/cgi-bin/amigo/term_details?term=GO:0042058',\n",
              "  'http://www.nlm.nih.gov/cgi/mesh/2015/MB_cgi?field=uid&exact=Find+Exact+Term&term=D018773',\n",
              "  'http://www.nlm.nih.gov/cgi/mesh/2015/MB_cgi?field=uid&exact=Find+Exact+Term&term=D008024',\n",
              "  'http://amigo.geneontology.org/cgi-bin/amigo/term_details?term=GO:0045741',\n",
              "  'http://amigo.geneontology.org/cgi-bin/amigo/term_details?term=GO:0007173',\n",
              "  'http://amigo.geneontology.org/cgi-bin/amigo/term_details?term=GO:0005006',\n",
              "  'http://amigo.geneontology.org/cgi-bin/amigo/term_details?term=GO:0007175',\n",
              "  'http://amigo.geneontology.org/cgi-bin/amigo/term_details?term=GO:0007176',\n",
              "  'http://www.uniprot.org/uniprot/EGFR_CHICK'],\n",
              " 'type': 'list',\n",
              " 'id': '55046d5ff8aee20f27000007',\n",
              " 'snippets': [{'offsetInBeginSection': 1085,\n",
              "   'offsetInEndSection': 1199,\n",
              "   'text': 'the epidermal growth factor receptor (EGFR) ligands, such as epidermal growth factor (EGF) and amphiregulin (AREG)',\n",
              "   'beginSection': 'abstract',\n",
              "   'document': 'http://www.ncbi.nlm.nih.gov/pubmed/24323361',\n",
              "   'endSection': 'abstract'},\n",
              "  {'offsetInBeginSection': 1139,\n",
              "   'offsetInEndSection': 1247,\n",
              "   'text': ' EGFR ligands epidermal growth factor (EGF), amphiregulin (AREG) and transforming growth factor alpha (TGFα)',\n",
              "   'beginSection': 'abstract',\n",
              "   'document': 'http://www.ncbi.nlm.nih.gov/pubmed/24124521',\n",
              "   'endSection': 'abstract'},\n",
              "  {'offsetInBeginSection': 72,\n",
              "   'offsetInEndSection': 97,\n",
              "   'text': ' EGFR and its ligand EGF ',\n",
              "   'beginSection': 'abstract',\n",
              "   'document': 'http://www.ncbi.nlm.nih.gov/pubmed/23959273',\n",
              "   'endSection': 'abstract'},\n",
              "  {'offsetInBeginSection': 903,\n",
              "   'offsetInEndSection': 1058,\n",
              "   'text': 'Among EGFR ligands, heparin-binding EGF-like growth factor, TGF-α and Betacellulin (BTC) are produced in the tumor microenvironment of FDC-S at RNA level. ',\n",
              "   'beginSection': 'abstract',\n",
              "   'document': 'http://www.ncbi.nlm.nih.gov/pubmed/23888072',\n",
              "   'endSection': 'abstract'},\n",
              "  {'offsetInBeginSection': 322,\n",
              "   'offsetInEndSection': 493,\n",
              "   'text': '. Plasma amphiregulin (AR), epidermal growth factor (EGF), transforming growth factor-α, and heparin binding-EGF were assessed by ELISA in 45 chemorefractory mCRC patients',\n",
              "   'beginSection': 'abstract',\n",
              "   'document': 'http://www.ncbi.nlm.nih.gov/pubmed/23821377',\n",
              "   'endSection': 'abstract'},\n",
              "  {'offsetInBeginSection': 346,\n",
              "   'offsetInEndSection': 414,\n",
              "   'text': 'Among EGFR ligands, heparin-binding epidermal growth factor (HB-EGF)',\n",
              "   'beginSection': 'abstract',\n",
              "   'document': 'http://www.ncbi.nlm.nih.gov/pubmed/23787814',\n",
              "   'endSection': 'abstract'},\n",
              "  {'offsetInBeginSection': 357,\n",
              "   'offsetInEndSection': 521,\n",
              "   'text': ' Of the six known EGFR ligands, transforming growth factor alpha (TGFα) was expressed more highly in triple-negative breast tumors than in tumors of other subtypes.',\n",
              "   'beginSection': 'abstract',\n",
              "   'document': 'http://www.ncbi.nlm.nih.gov/pubmed/23729230',\n",
              "   'endSection': 'abstract'},\n",
              "  {'offsetInBeginSection': 781,\n",
              "   'offsetInEndSection': 923,\n",
              "   'text': 'the 7 known EGFR ligands (EGF, betacellulin, epiregulin, heparin-binding EGF, transforming growth factor-α [TGF-α], amphiregulin, and epigen) ',\n",
              "   'beginSection': 'abstract',\n",
              "   'document': 'http://www.ncbi.nlm.nih.gov/pubmed/23399900',\n",
              "   'endSection': 'abstract'},\n",
              "  {'offsetInBeginSection': 1393,\n",
              "   'offsetInEndSection': 1472,\n",
              "   'text': 'EGFR ligands based on the two affinity classes: EGF>HB-EGF>TGF-α>BTC>EPR>EPG>AR',\n",
              "   'beginSection': 'abstract',\n",
              "   'document': 'http://www.ncbi.nlm.nih.gov/pubmed/23382875',\n",
              "   'endSection': 'abstract'},\n",
              "  {'offsetInBeginSection': 197,\n",
              "   'offsetInEndSection': 320,\n",
              "   'text': 'In this article, however, we demonstrate that PEPD directly binds to and activates epidermal growth factor receptor (EGFR),',\n",
              "   'beginSection': 'abstract',\n",
              "   'document': 'http://www.ncbi.nlm.nih.gov/pubmed/23212918',\n",
              "   'endSection': 'abstract'},\n",
              "  {'offsetInBeginSection': 1559,\n",
              "   'offsetInEndSection': 1607,\n",
              "   'text': 'four EGFR ligands (AR, HB-EGF, TGF-α, and EREG) ',\n",
              "   'beginSection': 'abstract',\n",
              "   'document': 'http://www.ncbi.nlm.nih.gov/pubmed/23099994',\n",
              "   'endSection': 'abstract'},\n",
              "  {'offsetInBeginSection': 0,\n",
              "   'offsetInEndSection': 87,\n",
              "   'text': 'Epidermal growth factor (EGF) family peptides are ligands for the EGF receptor (EGFR). ',\n",
              "   'beginSection': 'abstract',\n",
              "   'document': 'http://www.ncbi.nlm.nih.gov/pubmed/22260327',\n",
              "   'endSection': 'abstract'},\n",
              "  {'offsetInBeginSection': 240,\n",
              "   'offsetInEndSection': 490,\n",
              "   'text': 'oluble amphiregulin (AR), transforming growth factor alpha (TGFα), neuregulin 2 beta, and epigen stimulate greater EGFR coupling to cell proliferation and DNA synthesis than do EGF, betacellulin, heparin-binding EGF-like growth factor, and epiregulin',\n",
              "   'beginSection': 'abstract',\n",
              "   'document': 'http://www.ncbi.nlm.nih.gov/pubmed/22260327',\n",
              "   'endSection': 'abstract'},\n",
              "  {'offsetInBeginSection': 387,\n",
              "   'offsetInEndSection': 563,\n",
              "   'text': 'Here, we demonstrate that histamine releases 2 EGFR ligands, amphiregulin and heparin-binding epidermal growth factor-like growth factor (HB-EGF), from airway epithelial cells.',\n",
              "   'beginSection': 'abstract',\n",
              "   'document': 'http://www.ncbi.nlm.nih.gov/pubmed/22247333',\n",
              "   'endSection': 'abstract'},\n",
              "  {'offsetInBeginSection': 72,\n",
              "   'offsetInEndSection': 231,\n",
              "   'text': 'mammalian EGFR ligands including EGF, TGF-α (TGFα), amphiregulin (AREG), heparin-binding EGF-like growth factor (HB-EGF), betacellulin, epiregulin, and epigen.',\n",
              "   'beginSection': 'abstract',\n",
              "   'document': 'http://www.ncbi.nlm.nih.gov/pubmed/21514161',\n",
              "   'endSection': 'abstract'}]}"
            ]
          },
          "metadata": {},
          "execution_count": 40
        }
      ]
    },
    {
      "cell_type": "code",
      "source": [
        "# import requests\n",
        "# from bs4 import BeautifulSoup\n",
        "\n",
        "# def get_abstract(url):\n",
        "#   resp = requests.get(url).text\n",
        "#   site = BeautifulSoup(resp, 'html.parser')\n",
        "#   abstract = site.find(id=\"eng-abstract\").p.string\n",
        "#   return abstract.strip()\n",
        "\n",
        "# get_abstract(\"http://www.ncbi.nlm.nih.gov/pubmed/24323361\")"
      ],
      "metadata": {
        "colab": {
          "base_uri": "https://localhost:8080/",
          "height": 209
        },
        "id": "5KwSLWn0fbQh",
        "outputId": "e6c873f5-7f54-4f70-e685-b76fa0c69dfd"
      },
      "execution_count": null,
      "outputs": [
        {
          "output_type": "execute_result",
          "data": {
            "text/plain": [
              "'Pituitary adenylate cyclase-activating polypeptide (PACAP), a neuropeptide with trophic and cytoprotective effects, has been shown to affect cell survival, proliferation, and also differentiation of various cell types. The high PACAP level in the milk and its changes during lactation suggest a possible effect of PACAP on the differentiation of mammary epithelial cells. Mammary cell differentiation is regulated by hormones, growth factors, cytokines/chemokines, and angiogenic proteins. In this study, differentiation was hormonally induced by lactogenic hormones in confluent cultures of HC11 mouse mammary epithelial cells. We investigated the effect of PACAP on mammary cell differentiation as well as release of cytokines, chemokines, and growth factors. Differentiation was assessed by expression analysis of the milk protein β-casein. Differentiation significantly decreased the secretion of interferon gammainduced protein (IP)-10, \"regulated upon activation normal T cell expressed and presumably secreted\" (RANTES), insulin-like growth factor-binding protein (IGFBP)-3 and the epidermal growth factor receptor (EGFR) ligands, such as epidermal growth factor (EGF) and amphiregulin (AREG). The changes in the levels of IP-10 and RANTES may be relevant for the alterations in homing of T cells and B cells at different stages of mammary gland development, while the changes of the EGFR ligands may facilitate the switch from proliferative to lactating stage. PACAP did not modulate the expression of β-casein or the activity of hormone-induced pathways as determined by the analysis of phosphorylation of Akt, STAT5, and p38 MAPK. However, PACAP decreased the release of EGF and AREG from non-differentiated cells. This may influence the extracellular signal-related transactivation of EGFR in the non-differentiated mammary epithelium and is considered to have an impact on the modulation of oncogenic EGFR signaling in breast cancer.'"
            ],
            "application/vnd.google.colaboratory.intrinsic+json": {
              "type": "string"
            }
          },
          "metadata": {},
          "execution_count": 20
        }
      ]
    },
    {
      "cell_type": "code",
      "source": [
        "def preprocess_list(datum):\n",
        "  processed = []\n",
        "  i = 1\n",
        "  qid = datum['id']\n",
        "  \n",
        "  # for answer in datum['exact_answer']:\n",
        "  #   answer = answer[0]\n",
        "  #   for snippet in datum['snippets']:\n",
        "  #     snippet = snippet['text']\n",
        "  for snippet in datum['snippets']:\n",
        "    snippet = snippet['text'].lower()\n",
        "    for answer in datum['exact_answer']:\n",
        "      answer = answer[0].lower()\n",
        "  \n",
        "      ind = snippet.find(answer)\n",
        "      if ind > -1:\n",
        "        new_entry = {'id': f'{qid}_{i:04}', 'question': datum['body'], 'answers': [{'text': answer, 'answer_start': ind}]}\n",
        "        processed.append({'qas': [new_entry], 'context': snippet})\n",
        "        i += 1\n",
        "  return processed\n",
        "\n",
        "def preprocess_factoid(datum):\n",
        "  processed = []\n",
        "  i = 1\n",
        "  qid = datum['id']\n",
        "\n",
        "  for snippet in datum['snippets']:\n",
        "    snippet = snippet['text'].lower()\n",
        "    answer = datum['exact_answer'][0].lower()\n",
        "\n",
        "    ind = snippet.find(answer)\n",
        "    if ind > -1:\n",
        "      new_entry = {'id': f'{qid}_{i:04}', 'question': datum['body'], 'answers': [{'text': answer, 'answer_start': ind}]}\n",
        "      processed.append({'qas': [new_entry], 'context': snippet})\n",
        "      i += 1\n",
        "  return processed\n",
        "\n",
        "def preprocess_dataset(dataset):\n",
        "  processed = []\n",
        "  for datum in dataset:\n",
        "    if datum['type'] == 'list':\n",
        "      processed.extend(preprocess_list(datum))\n",
        "    elif datum['type'] == 'factoid':\n",
        "      processed.extend(preprocess_factoid(datum))\n",
        "  return processed"
      ],
      "metadata": {
        "id": "vURjvIrr-BK2"
      },
      "execution_count": 35,
      "outputs": []
    },
    {
      "cell_type": "code",
      "source": [
        "processed = preprocess_dataset(x['questions'])\n",
        "[a for a in processed[:27]]"
      ],
      "metadata": {
        "colab": {
          "base_uri": "https://localhost:8080/"
        },
        "id": "WBls9laPDx0a",
        "outputId": "f6f5dd83-1f59-4460-caaf-855567d818ea"
      },
      "execution_count": 43,
      "outputs": [
        {
          "output_type": "execute_result",
          "data": {
            "text/plain": [
              "[{'qas': [{'id': '55046d5ff8aee20f27000007_0001',\n",
              "    'question': 'List signaling molecules (ligands) that interact with the receptor EGFR?',\n",
              "    'answers': [{'text': 'epidermal growth factor', 'answer_start': 4}]}],\n",
              "  'context': 'the epidermal growth factor receptor (egfr) ligands, such as epidermal growth factor (egf) and amphiregulin (areg)'},\n",
              " {'qas': [{'id': '55046d5ff8aee20f27000007_0002',\n",
              "    'question': 'List signaling molecules (ligands) that interact with the receptor EGFR?',\n",
              "    'answers': [{'text': 'amphiregulin', 'answer_start': 95}]}],\n",
              "  'context': 'the epidermal growth factor receptor (egfr) ligands, such as epidermal growth factor (egf) and amphiregulin (areg)'},\n",
              " {'qas': [{'id': '55046d5ff8aee20f27000007_0003',\n",
              "    'question': 'List signaling molecules (ligands) that interact with the receptor EGFR?',\n",
              "    'answers': [{'text': 'epidermal growth factor', 'answer_start': 14}]}],\n",
              "  'context': ' egfr ligands epidermal growth factor (egf), amphiregulin (areg) and transforming growth factor alpha (tgfα)'},\n",
              " {'qas': [{'id': '55046d5ff8aee20f27000007_0004',\n",
              "    'question': 'List signaling molecules (ligands) that interact with the receptor EGFR?',\n",
              "    'answers': [{'text': 'amphiregulin', 'answer_start': 45}]}],\n",
              "  'context': ' egfr ligands epidermal growth factor (egf), amphiregulin (areg) and transforming growth factor alpha (tgfα)'},\n",
              " {'qas': [{'id': '55046d5ff8aee20f27000007_0005',\n",
              "    'question': 'List signaling molecules (ligands) that interact with the receptor EGFR?',\n",
              "    'answers': [{'text': 'betacellulin', 'answer_start': 70}]}],\n",
              "  'context': 'among egfr ligands, heparin-binding egf-like growth factor, tgf-α and betacellulin (btc) are produced in the tumor microenvironment of fdc-s at rna level. '},\n",
              " {'qas': [{'id': '55046d5ff8aee20f27000007_0006',\n",
              "    'question': 'List signaling molecules (ligands) that interact with the receptor EGFR?',\n",
              "    'answers': [{'text': 'epidermal growth factor', 'answer_start': 28}]}],\n",
              "  'context': '. plasma amphiregulin (ar), epidermal growth factor (egf), transforming growth factor-α, and heparin binding-egf were assessed by elisa in 45 chemorefractory mcrc patients'},\n",
              " {'qas': [{'id': '55046d5ff8aee20f27000007_0007',\n",
              "    'question': 'List signaling molecules (ligands) that interact with the receptor EGFR?',\n",
              "    'answers': [{'text': 'transforming growth factor-α',\n",
              "      'answer_start': 59}]}],\n",
              "  'context': '. plasma amphiregulin (ar), epidermal growth factor (egf), transforming growth factor-α, and heparin binding-egf were assessed by elisa in 45 chemorefractory mcrc patients'},\n",
              " {'qas': [{'id': '55046d5ff8aee20f27000007_0008',\n",
              "    'question': 'List signaling molecules (ligands) that interact with the receptor EGFR?',\n",
              "    'answers': [{'text': 'amphiregulin', 'answer_start': 9}]}],\n",
              "  'context': '. plasma amphiregulin (ar), epidermal growth factor (egf), transforming growth factor-α, and heparin binding-egf were assessed by elisa in 45 chemorefractory mcrc patients'},\n",
              " {'qas': [{'id': '55046d5ff8aee20f27000007_0009',\n",
              "    'question': 'List signaling molecules (ligands) that interact with the receptor EGFR?',\n",
              "    'answers': [{'text': 'epidermal growth factor', 'answer_start': 36}]}],\n",
              "  'context': 'among egfr ligands, heparin-binding epidermal growth factor (hb-egf)'},\n",
              " {'qas': [{'id': '55046d5ff8aee20f27000007_0010',\n",
              "    'question': 'List signaling molecules (ligands) that interact with the receptor EGFR?',\n",
              "    'answers': [{'text': 'heparin-binding epidermal growth factor',\n",
              "      'answer_start': 20}]}],\n",
              "  'context': 'among egfr ligands, heparin-binding epidermal growth factor (hb-egf)'},\n",
              " {'qas': [{'id': '55046d5ff8aee20f27000007_0011',\n",
              "    'question': 'List signaling molecules (ligands) that interact with the receptor EGFR?',\n",
              "    'answers': [{'text': 'betacellulin', 'answer_start': 31}]}],\n",
              "  'context': 'the 7 known egfr ligands (egf, betacellulin, epiregulin, heparin-binding egf, transforming growth factor-α [tgf-α], amphiregulin, and epigen) '},\n",
              " {'qas': [{'id': '55046d5ff8aee20f27000007_0012',\n",
              "    'question': 'List signaling molecules (ligands) that interact with the receptor EGFR?',\n",
              "    'answers': [{'text': 'epiregulin', 'answer_start': 45}]}],\n",
              "  'context': 'the 7 known egfr ligands (egf, betacellulin, epiregulin, heparin-binding egf, transforming growth factor-α [tgf-α], amphiregulin, and epigen) '},\n",
              " {'qas': [{'id': '55046d5ff8aee20f27000007_0013',\n",
              "    'question': 'List signaling molecules (ligands) that interact with the receptor EGFR?',\n",
              "    'answers': [{'text': 'transforming growth factor-α',\n",
              "      'answer_start': 78}]}],\n",
              "  'context': 'the 7 known egfr ligands (egf, betacellulin, epiregulin, heparin-binding egf, transforming growth factor-α [tgf-α], amphiregulin, and epigen) '},\n",
              " {'qas': [{'id': '55046d5ff8aee20f27000007_0014',\n",
              "    'question': 'List signaling molecules (ligands) that interact with the receptor EGFR?',\n",
              "    'answers': [{'text': 'amphiregulin', 'answer_start': 116}]}],\n",
              "  'context': 'the 7 known egfr ligands (egf, betacellulin, epiregulin, heparin-binding egf, transforming growth factor-α [tgf-α], amphiregulin, and epigen) '},\n",
              " {'qas': [{'id': '55046d5ff8aee20f27000007_0015',\n",
              "    'question': 'List signaling molecules (ligands) that interact with the receptor EGFR?',\n",
              "    'answers': [{'text': 'epigen', 'answer_start': 134}]}],\n",
              "  'context': 'the 7 known egfr ligands (egf, betacellulin, epiregulin, heparin-binding egf, transforming growth factor-α [tgf-α], amphiregulin, and epigen) '},\n",
              " {'qas': [{'id': '55046d5ff8aee20f27000007_0016',\n",
              "    'question': 'List signaling molecules (ligands) that interact with the receptor EGFR?',\n",
              "    'answers': [{'text': 'epidermal growth factor', 'answer_start': 83}]}],\n",
              "  'context': 'in this article, however, we demonstrate that pepd directly binds to and activates epidermal growth factor receptor (egfr),'},\n",
              " {'qas': [{'id': '55046d5ff8aee20f27000007_0017',\n",
              "    'question': 'List signaling molecules (ligands) that interact with the receptor EGFR?',\n",
              "    'answers': [{'text': 'epidermal growth factor', 'answer_start': 0}]}],\n",
              "  'context': 'epidermal growth factor (egf) family peptides are ligands for the egf receptor (egfr). '},\n",
              " {'qas': [{'id': '55046d5ff8aee20f27000007_0018',\n",
              "    'question': 'List signaling molecules (ligands) that interact with the receptor EGFR?',\n",
              "    'answers': [{'text': 'betacellulin', 'answer_start': 182}]}],\n",
              "  'context': 'oluble amphiregulin (ar), transforming growth factor alpha (tgfα), neuregulin 2 beta, and epigen stimulate greater egfr coupling to cell proliferation and dna synthesis than do egf, betacellulin, heparin-binding egf-like growth factor, and epiregulin'},\n",
              " {'qas': [{'id': '55046d5ff8aee20f27000007_0019',\n",
              "    'question': 'List signaling molecules (ligands) that interact with the receptor EGFR?',\n",
              "    'answers': [{'text': 'epiregulin', 'answer_start': 240}]}],\n",
              "  'context': 'oluble amphiregulin (ar), transforming growth factor alpha (tgfα), neuregulin 2 beta, and epigen stimulate greater egfr coupling to cell proliferation and dna synthesis than do egf, betacellulin, heparin-binding egf-like growth factor, and epiregulin'},\n",
              " {'qas': [{'id': '55046d5ff8aee20f27000007_0020',\n",
              "    'question': 'List signaling molecules (ligands) that interact with the receptor EGFR?',\n",
              "    'answers': [{'text': 'amphiregulin', 'answer_start': 7}]}],\n",
              "  'context': 'oluble amphiregulin (ar), transforming growth factor alpha (tgfα), neuregulin 2 beta, and epigen stimulate greater egfr coupling to cell proliferation and dna synthesis than do egf, betacellulin, heparin-binding egf-like growth factor, and epiregulin'},\n",
              " {'qas': [{'id': '55046d5ff8aee20f27000007_0021',\n",
              "    'question': 'List signaling molecules (ligands) that interact with the receptor EGFR?',\n",
              "    'answers': [{'text': 'epigen', 'answer_start': 90}]}],\n",
              "  'context': 'oluble amphiregulin (ar), transforming growth factor alpha (tgfα), neuregulin 2 beta, and epigen stimulate greater egfr coupling to cell proliferation and dna synthesis than do egf, betacellulin, heparin-binding egf-like growth factor, and epiregulin'},\n",
              " {'qas': [{'id': '55046d5ff8aee20f27000007_0022',\n",
              "    'question': 'List signaling molecules (ligands) that interact with the receptor EGFR?',\n",
              "    'answers': [{'text': 'epidermal growth factor', 'answer_start': 94}]}],\n",
              "  'context': 'here, we demonstrate that histamine releases 2 egfr ligands, amphiregulin and heparin-binding epidermal growth factor-like growth factor (hb-egf), from airway epithelial cells.'},\n",
              " {'qas': [{'id': '55046d5ff8aee20f27000007_0023',\n",
              "    'question': 'List signaling molecules (ligands) that interact with the receptor EGFR?',\n",
              "    'answers': [{'text': 'heparin-binding epidermal growth factor',\n",
              "      'answer_start': 78}]}],\n",
              "  'context': 'here, we demonstrate that histamine releases 2 egfr ligands, amphiregulin and heparin-binding epidermal growth factor-like growth factor (hb-egf), from airway epithelial cells.'},\n",
              " {'qas': [{'id': '55046d5ff8aee20f27000007_0024',\n",
              "    'question': 'List signaling molecules (ligands) that interact with the receptor EGFR?',\n",
              "    'answers': [{'text': 'amphiregulin', 'answer_start': 61}]}],\n",
              "  'context': 'here, we demonstrate that histamine releases 2 egfr ligands, amphiregulin and heparin-binding epidermal growth factor-like growth factor (hb-egf), from airway epithelial cells.'},\n",
              " {'qas': [{'id': '55046d5ff8aee20f27000007_0025',\n",
              "    'question': 'List signaling molecules (ligands) that interact with the receptor EGFR?',\n",
              "    'answers': [{'text': 'betacellulin', 'answer_start': 122}]}],\n",
              "  'context': 'mammalian egfr ligands including egf, tgf-α (tgfα), amphiregulin (areg), heparin-binding egf-like growth factor (hb-egf), betacellulin, epiregulin, and epigen.'},\n",
              " {'qas': [{'id': '55046d5ff8aee20f27000007_0026',\n",
              "    'question': 'List signaling molecules (ligands) that interact with the receptor EGFR?',\n",
              "    'answers': [{'text': 'epiregulin', 'answer_start': 136}]}],\n",
              "  'context': 'mammalian egfr ligands including egf, tgf-α (tgfα), amphiregulin (areg), heparin-binding egf-like growth factor (hb-egf), betacellulin, epiregulin, and epigen.'},\n",
              " {'qas': [{'id': '55046d5ff8aee20f27000007_0027',\n",
              "    'question': 'List signaling molecules (ligands) that interact with the receptor EGFR?',\n",
              "    'answers': [{'text': 'amphiregulin', 'answer_start': 52}]}],\n",
              "  'context': 'mammalian egfr ligands including egf, tgf-α (tgfα), amphiregulin (areg), heparin-binding egf-like growth factor (hb-egf), betacellulin, epiregulin, and epigen.'}]"
            ]
          },
          "metadata": {},
          "execution_count": 43
        }
      ]
    },
    {
      "cell_type": "code",
      "source": [
        "json.dump({'data': [{'paragraphs': processed, 'title': 'BioASQ11b'}], 'version': 'BioASQ11b'}, open('preprocessed-training11b.json', 'w'))"
      ],
      "metadata": {
        "id": "3T_YDh8LHHI8"
      },
      "execution_count": 39,
      "outputs": []
    }
  ]
}