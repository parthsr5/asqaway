{
  "nbformat": 4,
  "nbformat_minor": 0,
  "metadata": {
    "colab": {
      "provenance": []
    },
    "kernelspec": {
      "name": "python3",
      "display_name": "Python 3"
    },
    "language_info": {
      "name": "python"
    },
    "gpuClass": "standard"
  },
  "cells": [
    {
      "cell_type": "code",
      "execution_count": null,
      "metadata": {
        "id": "5Bw_1Nht74Jx"
      },
      "outputs": [],
      "source": [
        "!pip install matplotlib"
      ]
    },
    {
      "cell_type": "code",
      "source": [
        "!unzip BioASQ-training11b.zip"
      ],
      "metadata": {
        "colab": {
          "base_uri": "https://localhost:8080/"
        },
        "id": "sNGgGVs1ST2d",
        "outputId": "7478fa81-f248-4e37-c7a6-710ee5e744b8"
      },
      "execution_count": 3,
      "outputs": [
        {
          "output_type": "stream",
          "name": "stdout",
          "text": [
            "Archive:  BioASQ-training11b.zip\n",
            "   creating: BioASQ-training11b/\n",
            "  inflating: BioASQ-training11b/README  \n",
            "  inflating: BioASQ-training11b/training11b.json  \n"
          ]
        }
      ]
    },
    {
      "cell_type": "code",
      "source": [
        "import json\n",
        "import matplotlib.pyplot as plt\n",
        "\n",
        "x = json.load(open(\"BioASQ-training11b/training11b.json\"))"
      ],
      "metadata": {
        "id": "JWIwFy1o8B4P"
      },
      "execution_count": 4,
      "outputs": []
    },
    {
      "cell_type": "code",
      "source": [
        "list_questions = [q for q in x['questions'] if q['type'] == 'list']\n",
        "factoid_questions = [q for q in x['questions'] if q['type'] == 'factoid']\n",
        "list_questions[0]"
      ],
      "metadata": {
        "colab": {
          "base_uri": "https://localhost:8080/"
        },
        "id": "kAJpdvSsTPm5",
        "outputId": "87cadd64-8bcf-4588-8564-e241fe2ad46c"
      },
      "execution_count": 18,
      "outputs": [
        {
          "output_type": "execute_result",
          "data": {
            "text/plain": [
              "{'body': 'List signaling molecules (ligands) that interact with the receptor EGFR?',\n",
              " 'documents': ['http://www.ncbi.nlm.nih.gov/pubmed/23959273',\n",
              "  'http://www.ncbi.nlm.nih.gov/pubmed/21514161',\n",
              "  'http://www.ncbi.nlm.nih.gov/pubmed/23212918',\n",
              "  'http://www.ncbi.nlm.nih.gov/pubmed/23888072',\n",
              "  'http://www.ncbi.nlm.nih.gov/pubmed/23821377',\n",
              "  'http://www.ncbi.nlm.nih.gov/pubmed/23099994',\n",
              "  'http://www.ncbi.nlm.nih.gov/pubmed/22260327',\n",
              "  'http://www.ncbi.nlm.nih.gov/pubmed/24204699',\n",
              "  'http://www.ncbi.nlm.nih.gov/pubmed/24323361',\n",
              "  'http://www.ncbi.nlm.nih.gov/pubmed/23089711',\n",
              "  'http://www.ncbi.nlm.nih.gov/pubmed/23399900',\n",
              "  'http://www.ncbi.nlm.nih.gov/pubmed/23382875',\n",
              "  'http://www.ncbi.nlm.nih.gov/pubmed/23729230',\n",
              "  'http://www.ncbi.nlm.nih.gov/pubmed/23787814',\n",
              "  'http://www.ncbi.nlm.nih.gov/pubmed/24124521',\n",
              "  'http://www.ncbi.nlm.nih.gov/pubmed/22247333'],\n",
              " 'triples': [{'p': 'http://purl.uniprot.org/core/encodedBy',\n",
              "   's': 'http://purl.uniprot.org/uniprot/Q9QX70',\n",
              "   'o': 'http://linkedlifedata.com/resource/#_5139515837300022'},\n",
              "  {'p': 'http://www.w3.org/2004/02/skos/core#prefLabel',\n",
              "   's': 'http://linkedlifedata.com/resource/#_5139515837300022',\n",
              "   'o': 'Egfr'},\n",
              "  {'p': 'http://www.w3.org/2004/02/skos/core#exactMatch',\n",
              "   's': 'http://purl.uniprot.org/intact/EBI-1256812',\n",
              "   'o': 'http://purl.uniprot.org/uniprot/Q9QX70'},\n",
              "  {'p': 'http://www.w3.org/2000/01/rdf-schema#label',\n",
              "   's': 'http://purl.uniprot.org/intact/EBI-1256812',\n",
              "   'o': 'Egfr'}],\n",
              " 'ideal_answer': ['The 7 known EGFR ligands  are: epidermal growth factor (EGF), betacellulin (BTC), epiregulin (EPR), heparin-binding EGF (HB-EGF), transforming growth factor-α [TGF-α], amphiregulin (AREG) and epigen (EPG).'],\n",
              " 'exact_answer': [['epidermal growth factor'],\n",
              "  ['betacellulin'],\n",
              "  ['epiregulin'],\n",
              "  ['heparin-binding epidermal growth factor'],\n",
              "  ['transforming growth factor-α'],\n",
              "  ['amphiregulin'],\n",
              "  ['epigen']],\n",
              " 'concepts': ['http://amigo.geneontology.org/cgi-bin/amigo/term_details?term=GO:0005154',\n",
              "  'http://www.uniprot.org/uniprot/EGFR_HUMAN',\n",
              "  'http://amigo.geneontology.org/cgi-bin/amigo/term_details?term=GO:0005488',\n",
              "  'http://amigo.geneontology.org/cgi-bin/amigo/term_details?term=GO:0042058',\n",
              "  'http://www.nlm.nih.gov/cgi/mesh/2015/MB_cgi?field=uid&exact=Find+Exact+Term&term=D018773',\n",
              "  'http://www.nlm.nih.gov/cgi/mesh/2015/MB_cgi?field=uid&exact=Find+Exact+Term&term=D008024',\n",
              "  'http://amigo.geneontology.org/cgi-bin/amigo/term_details?term=GO:0045741',\n",
              "  'http://amigo.geneontology.org/cgi-bin/amigo/term_details?term=GO:0007173',\n",
              "  'http://amigo.geneontology.org/cgi-bin/amigo/term_details?term=GO:0005006',\n",
              "  'http://amigo.geneontology.org/cgi-bin/amigo/term_details?term=GO:0007175',\n",
              "  'http://amigo.geneontology.org/cgi-bin/amigo/term_details?term=GO:0007176',\n",
              "  'http://www.uniprot.org/uniprot/EGFR_CHICK'],\n",
              " 'type': 'list',\n",
              " 'id': '55046d5ff8aee20f27000007',\n",
              " 'snippets': [{'offsetInBeginSection': 1085,\n",
              "   'offsetInEndSection': 1199,\n",
              "   'text': 'the epidermal growth factor receptor (EGFR) ligands, such as epidermal growth factor (EGF) and amphiregulin (AREG)',\n",
              "   'beginSection': 'abstract',\n",
              "   'document': 'http://www.ncbi.nlm.nih.gov/pubmed/24323361',\n",
              "   'endSection': 'abstract'},\n",
              "  {'offsetInBeginSection': 1139,\n",
              "   'offsetInEndSection': 1247,\n",
              "   'text': ' EGFR ligands epidermal growth factor (EGF), amphiregulin (AREG) and transforming growth factor alpha (TGFα)',\n",
              "   'beginSection': 'abstract',\n",
              "   'document': 'http://www.ncbi.nlm.nih.gov/pubmed/24124521',\n",
              "   'endSection': 'abstract'},\n",
              "  {'offsetInBeginSection': 72,\n",
              "   'offsetInEndSection': 97,\n",
              "   'text': ' EGFR and its ligand EGF ',\n",
              "   'beginSection': 'abstract',\n",
              "   'document': 'http://www.ncbi.nlm.nih.gov/pubmed/23959273',\n",
              "   'endSection': 'abstract'},\n",
              "  {'offsetInBeginSection': 903,\n",
              "   'offsetInEndSection': 1058,\n",
              "   'text': 'Among EGFR ligands, heparin-binding EGF-like growth factor, TGF-α and Betacellulin (BTC) are produced in the tumor microenvironment of FDC-S at RNA level. ',\n",
              "   'beginSection': 'abstract',\n",
              "   'document': 'http://www.ncbi.nlm.nih.gov/pubmed/23888072',\n",
              "   'endSection': 'abstract'},\n",
              "  {'offsetInBeginSection': 322,\n",
              "   'offsetInEndSection': 493,\n",
              "   'text': '. Plasma amphiregulin (AR), epidermal growth factor (EGF), transforming growth factor-α, and heparin binding-EGF were assessed by ELISA in 45 chemorefractory mCRC patients',\n",
              "   'beginSection': 'abstract',\n",
              "   'document': 'http://www.ncbi.nlm.nih.gov/pubmed/23821377',\n",
              "   'endSection': 'abstract'},\n",
              "  {'offsetInBeginSection': 346,\n",
              "   'offsetInEndSection': 414,\n",
              "   'text': 'Among EGFR ligands, heparin-binding epidermal growth factor (HB-EGF)',\n",
              "   'beginSection': 'abstract',\n",
              "   'document': 'http://www.ncbi.nlm.nih.gov/pubmed/23787814',\n",
              "   'endSection': 'abstract'},\n",
              "  {'offsetInBeginSection': 357,\n",
              "   'offsetInEndSection': 521,\n",
              "   'text': ' Of the six known EGFR ligands, transforming growth factor alpha (TGFα) was expressed more highly in triple-negative breast tumors than in tumors of other subtypes.',\n",
              "   'beginSection': 'abstract',\n",
              "   'document': 'http://www.ncbi.nlm.nih.gov/pubmed/23729230',\n",
              "   'endSection': 'abstract'},\n",
              "  {'offsetInBeginSection': 781,\n",
              "   'offsetInEndSection': 923,\n",
              "   'text': 'the 7 known EGFR ligands (EGF, betacellulin, epiregulin, heparin-binding EGF, transforming growth factor-α [TGF-α], amphiregulin, and epigen) ',\n",
              "   'beginSection': 'abstract',\n",
              "   'document': 'http://www.ncbi.nlm.nih.gov/pubmed/23399900',\n",
              "   'endSection': 'abstract'},\n",
              "  {'offsetInBeginSection': 1393,\n",
              "   'offsetInEndSection': 1472,\n",
              "   'text': 'EGFR ligands based on the two affinity classes: EGF>HB-EGF>TGF-α>BTC>EPR>EPG>AR',\n",
              "   'beginSection': 'abstract',\n",
              "   'document': 'http://www.ncbi.nlm.nih.gov/pubmed/23382875',\n",
              "   'endSection': 'abstract'},\n",
              "  {'offsetInBeginSection': 197,\n",
              "   'offsetInEndSection': 320,\n",
              "   'text': 'In this article, however, we demonstrate that PEPD directly binds to and activates epidermal growth factor receptor (EGFR),',\n",
              "   'beginSection': 'abstract',\n",
              "   'document': 'http://www.ncbi.nlm.nih.gov/pubmed/23212918',\n",
              "   'endSection': 'abstract'},\n",
              "  {'offsetInBeginSection': 1559,\n",
              "   'offsetInEndSection': 1607,\n",
              "   'text': 'four EGFR ligands (AR, HB-EGF, TGF-α, and EREG) ',\n",
              "   'beginSection': 'abstract',\n",
              "   'document': 'http://www.ncbi.nlm.nih.gov/pubmed/23099994',\n",
              "   'endSection': 'abstract'},\n",
              "  {'offsetInBeginSection': 0,\n",
              "   'offsetInEndSection': 87,\n",
              "   'text': 'Epidermal growth factor (EGF) family peptides are ligands for the EGF receptor (EGFR). ',\n",
              "   'beginSection': 'abstract',\n",
              "   'document': 'http://www.ncbi.nlm.nih.gov/pubmed/22260327',\n",
              "   'endSection': 'abstract'},\n",
              "  {'offsetInBeginSection': 240,\n",
              "   'offsetInEndSection': 490,\n",
              "   'text': 'oluble amphiregulin (AR), transforming growth factor alpha (TGFα), neuregulin 2 beta, and epigen stimulate greater EGFR coupling to cell proliferation and DNA synthesis than do EGF, betacellulin, heparin-binding EGF-like growth factor, and epiregulin',\n",
              "   'beginSection': 'abstract',\n",
              "   'document': 'http://www.ncbi.nlm.nih.gov/pubmed/22260327',\n",
              "   'endSection': 'abstract'},\n",
              "  {'offsetInBeginSection': 387,\n",
              "   'offsetInEndSection': 563,\n",
              "   'text': 'Here, we demonstrate that histamine releases 2 EGFR ligands, amphiregulin and heparin-binding epidermal growth factor-like growth factor (HB-EGF), from airway epithelial cells.',\n",
              "   'beginSection': 'abstract',\n",
              "   'document': 'http://www.ncbi.nlm.nih.gov/pubmed/22247333',\n",
              "   'endSection': 'abstract'},\n",
              "  {'offsetInBeginSection': 72,\n",
              "   'offsetInEndSection': 231,\n",
              "   'text': 'mammalian EGFR ligands including EGF, TGF-α (TGFα), amphiregulin (AREG), heparin-binding EGF-like growth factor (HB-EGF), betacellulin, epiregulin, and epigen.',\n",
              "   'beginSection': 'abstract',\n",
              "   'document': 'http://www.ncbi.nlm.nih.gov/pubmed/21514161',\n",
              "   'endSection': 'abstract'}]}"
            ]
          },
          "metadata": {},
          "execution_count": 18
        }
      ]
    },
    {
      "cell_type": "code",
      "source": [
        "plt.figure()\n",
        "plt.hist([len(q['exact_answer']) for q in list_questions])\n",
        "plt.title(\"List Length Counts\")\n",
        "plt.xlabel(\"Length of list\")\n",
        "plt.ylabel(\"Count\")\n",
        "plt.show()\n",
        "\n",
        "plt.figure()\n",
        "plt.hist([len(q['exact_answer']) for q in list_questions if len(q['exact_answer']) <= 10])\n",
        "plt.title(\"List Length Counts (length <=10)\")\n",
        "plt.xlabel(\"Length of list\")\n",
        "plt.ylabel(\"Count\")\n",
        "plt.show()"
      ],
      "metadata": {
        "colab": {
          "base_uri": "https://localhost:8080/",
          "height": 573
        },
        "id": "I5iUgmyxc42r",
        "outputId": "d8acee22-c25f-42a0-de15-840e187e3b6a"
      },
      "execution_count": 13,
      "outputs": [
        {
          "output_type": "display_data",
          "data": {
            "text/plain": [
              "<Figure size 432x288 with 1 Axes>"
            ],
            "image/png": "[encoded data removed]"
          },
          "metadata": {
            "needs_background": "light"
          }
        },
        {
          "output_type": "display_data",
          "data": {
            "text/plain": [
              "<Figure size 432x288 with 1 Axes>"
            ],
            "image/png": "[encoded data removed]"
          },
          "metadata": {
            "needs_background": "light"
          }
        }
      ]
    },
    {
      "cell_type": "code",
      "source": [
        "plt.figure()\n",
        "plt.hist([len(q['snippets']) for q in list_questions])\n",
        "plt.title(\"Snippet Length Counts\")\n",
        "plt.xlabel(\"Number of snippets\")\n",
        "plt.ylabel(\"Count\")\n",
        "plt.show()\n",
        "\n",
        "plt.figure()\n",
        "plt.hist([len(q['snippets']) for q in list_questions if len(q['snippets']) <= 10])\n",
        "plt.title(\"Snippet Length Counts (<=10 snippets)\")\n",
        "plt.xlabel(\"Number of snippets\")\n",
        "plt.ylabel(\"Count\")\n",
        "plt.show()"
      ],
      "metadata": {
        "colab": {
          "base_uri": "https://localhost:8080/",
          "height": 573
        },
        "id": "LFDHUs8qllZz",
        "outputId": "81d4013a-87c3-4c64-80cf-69d3880973e2"
      },
      "execution_count": 14,
      "outputs": [
        {
          "output_type": "display_data",
          "data": {
            "text/plain": [
              "<Figure size 432x288 with 1 Axes>"
            ],
            "image/png": "[encoded data removed]"
          },
          "metadata": {
            "needs_background": "light"
          }
        },
        {
          "output_type": "display_data",
          "data": {
            "text/plain": [
              "<Figure size 432x288 with 1 Axes>"
            ],
            "image/png": "[encoded data removed]"
          },
          "metadata": {
            "needs_background": "light"
          }
        }
      ]
    },
    {
      "cell_type": "code",
      "source": [
        "print(len(list_questions))\n",
        "print(len(factoid_questions))"
      ],
      "metadata": {
        "colab": {
          "base_uri": "https://localhost:8080/"
        },
        "id": "wgkTHkEiq4_n",
        "outputId": "9a86a6b0-fc03-4236-cabc-8a6230f2eb24"
      },
      "execution_count": 16,
      "outputs": [
        {
          "output_type": "stream",
          "name": "stdout",
          "text": [
            "901\n",
            "1417\n"
          ]
        }
      ]
    },
    {
      "cell_type": "code",
      "source": [
        "plt.figure()\n",
        "plt.hist([len(q['snippets']) for q in factoid_questions])\n",
        "plt.title(\"Snippet Length Counts\")\n",
        "plt.xlabel(\"Number of snippets\")\n",
        "plt.ylabel(\"Count\")\n",
        "plt.show()\n",
        "\n",
        "plt.figure()\n",
        "plt.hist([len(q['snippets']) for q in factoid_questions if len(q['snippets']) <= 10])\n",
        "plt.title(\"Snippet Length Counts (<=10 snippets)\")\n",
        "plt.xlabel(\"Number of snippets\")\n",
        "plt.ylabel(\"Count\")\n",
        "plt.show()"
      ],
      "metadata": {
        "colab": {
          "base_uri": "https://localhost:8080/",
          "height": 573
        },
        "id": "rMp3svB9shWS",
        "outputId": "a0108aaf-2c23-41d6-b279-fb45254109c9"
      },
      "execution_count": 19,
      "outputs": [
        {
          "output_type": "display_data",
          "data": {
            "text/plain": [
              "<Figure size 432x288 with 1 Axes>"
            ],
            "image/png": "[encoded data removed]"
          },
          "metadata": {
            "needs_background": "light"
          }
        },
        {
          "output_type": "display_data",
          "data": {
            "text/plain": [
              "<Figure size 432x288 with 1 Axes>"
            ],
            "image/png": "[encoded data removed]"
          },
          "metadata": {
            "needs_background": "light"
          }
        }
      ]
    }
  ]
}